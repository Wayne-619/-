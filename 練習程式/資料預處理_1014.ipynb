{
  "nbformat": 4,
  "nbformat_minor": 0,
  "metadata": {
    "colab": {
      "provenance": []
    },
    "kernelspec": {
      "name": "python3",
      "display_name": "Python 3"
    },
    "language_info": {
      "name": "python"
    }
  },
  "cells": [
    {
      "cell_type": "code",
      "execution_count": 2,
      "metadata": {
        "id": "dIkOTbSHxj9b"
      },
      "outputs": [],
      "source": [
        "import numpy as np\n",
        "import pandas as pd\n",
        "from sklearn import datasets as ds\n",
        "from sklearn import preprocessing as pp\n",
        "import matplotlib as plt"
      ]
    },
    {
      "cell_type": "code",
      "source": [
        "df = pd.read_csv(\"/content/drive/MyDrive/中興大學-資料探勘/openpowerlifting.csv\")\n",
        "df.info()"
      ],
      "metadata": {
        "colab": {
          "base_uri": "https://localhost:8080/"
        },
        "id": "1F1bekf9xoYs",
        "outputId": "acc5362d-7eeb-4799-a4b3-c3ea12688cfe"
      },
      "execution_count": 3,
      "outputs": [
        {
          "output_type": "stream",
          "name": "stderr",
          "text": [
            "/usr/local/lib/python3.7/dist-packages/IPython/core/interactiveshell.py:3326: DtypeWarning: Columns (35) have mixed types.Specify dtype option on import or set low_memory=False.\n",
            "  exec(code_obj, self.user_global_ns, self.user_ns)\n"
          ]
        },
        {
          "output_type": "stream",
          "name": "stdout",
          "text": [
            "<class 'pandas.core.frame.DataFrame'>\n",
            "RangeIndex: 1423354 entries, 0 to 1423353\n",
            "Data columns (total 37 columns):\n",
            " #   Column           Non-Null Count    Dtype  \n",
            "---  ------           --------------    -----  \n",
            " 0   Name             1423354 non-null  object \n",
            " 1   Sex              1423354 non-null  object \n",
            " 2   Event            1423354 non-null  object \n",
            " 3   Equipment        1423354 non-null  object \n",
            " 4   Age              757527 non-null   float64\n",
            " 5   AgeClass         786800 non-null   object \n",
            " 6   Division         1415176 non-null  object \n",
            " 7   BodyweightKg     1406622 non-null  float64\n",
            " 8   WeightClassKg    1410042 non-null  object \n",
            " 9   Squat1Kg         337580 non-null   float64\n",
            " 10  Squat2Kg         333349 non-null   float64\n",
            " 11  Squat3Kg         323842 non-null   float64\n",
            " 12  Squat4Kg         3696 non-null     float64\n",
            " 13  Best3SquatKg     1031450 non-null  float64\n",
            " 14  Bench1Kg         499779 non-null   float64\n",
            " 15  Bench2Kg         493486 non-null   float64\n",
            " 16  Bench3Kg         478485 non-null   float64\n",
            " 17  Bench4Kg         9505 non-null     float64\n",
            " 18  Best3BenchKg     1276181 non-null  float64\n",
            " 19  Deadlift1Kg      363544 non-null   float64\n",
            " 20  Deadlift2Kg      356023 non-null   float64\n",
            " 21  Deadlift3Kg      339947 non-null   float64\n",
            " 22  Deadlift4Kg      9246 non-null     float64\n",
            " 23  Best3DeadliftKg  1081808 non-null  float64\n",
            " 24  TotalKg          1313184 non-null  float64\n",
            " 25  Place            1423354 non-null  object \n",
            " 26  Wilks            1304407 non-null  float64\n",
            " 27  McCulloch        1304254 non-null  float64\n",
            " 28  Glossbrenner     1304407 non-null  float64\n",
            " 29  IPFPoints        1273286 non-null  float64\n",
            " 30  Tested           1093892 non-null  object \n",
            " 31  Country          388884 non-null   object \n",
            " 32  Federation       1423354 non-null  object \n",
            " 33  Date             1423354 non-null  object \n",
            " 34  MeetCountry      1423354 non-null  object \n",
            " 35  MeetState        941545 non-null   object \n",
            " 36  MeetName         1423354 non-null  object \n",
            "dtypes: float64(22), object(15)\n",
            "memory usage: 401.8+ MB\n"
          ]
        }
      ]
    },
    {
      "cell_type": "code",
      "source": [
        "SBD = df.loc[:,['Equipment','Wilks','McCulloch','Glossbrenner','IPFPoints']].dropna()\n",
        "SBD_1 = df.loc[:,['Wilks','McCulloch','Glossbrenner','IPFPoints']].dropna()\n",
        "SBD.head()"
      ],
      "metadata": {
        "colab": {
          "base_uri": "https://localhost:8080/",
          "height": 206
        },
        "id": "74SNtebsFQaB",
        "outputId": "731dbf60-caa8-41ea-a146-862cce1a97da"
      },
      "execution_count": 4,
      "outputs": [
        {
          "output_type": "execute_result",
          "data": {
            "text/plain": [
              "  Equipment   Wilks  McCulloch  Glossbrenner  IPFPoints\n",
              "0     Wraps  324.16     324.16        286.42     511.15\n",
              "1     Wraps  378.07     378.07        334.16     595.65\n",
              "2       Raw   38.56      38.56         34.12     313.97\n",
              "3     Wraps  345.61     345.61        305.37     547.04\n",
              "4     Wraps  321.25     338.91        274.56     550.08"
            ],
            "text/html": [
              "\n",
              "  <div id=\"df-b012950f-4c63-4475-8cdd-d44877b75f65\">\n",
              "    <div class=\"colab-df-container\">\n",
              "      <div>\n",
              "<style scoped>\n",
              "    .dataframe tbody tr th:only-of-type {\n",
              "        vertical-align: middle;\n",
              "    }\n",
              "\n",
              "    .dataframe tbody tr th {\n",
              "        vertical-align: top;\n",
              "    }\n",
              "\n",
              "    .dataframe thead th {\n",
              "        text-align: right;\n",
              "    }\n",
              "</style>\n",
              "<table border=\"1\" class=\"dataframe\">\n",
              "  <thead>\n",
              "    <tr style=\"text-align: right;\">\n",
              "      <th></th>\n",
              "      <th>Equipment</th>\n",
              "      <th>Wilks</th>\n",
              "      <th>McCulloch</th>\n",
              "      <th>Glossbrenner</th>\n",
              "      <th>IPFPoints</th>\n",
              "    </tr>\n",
              "  </thead>\n",
              "  <tbody>\n",
              "    <tr>\n",
              "      <th>0</th>\n",
              "      <td>Wraps</td>\n",
              "      <td>324.16</td>\n",
              "      <td>324.16</td>\n",
              "      <td>286.42</td>\n",
              "      <td>511.15</td>\n",
              "    </tr>\n",
              "    <tr>\n",
              "      <th>1</th>\n",
              "      <td>Wraps</td>\n",
              "      <td>378.07</td>\n",
              "      <td>378.07</td>\n",
              "      <td>334.16</td>\n",
              "      <td>595.65</td>\n",
              "    </tr>\n",
              "    <tr>\n",
              "      <th>2</th>\n",
              "      <td>Raw</td>\n",
              "      <td>38.56</td>\n",
              "      <td>38.56</td>\n",
              "      <td>34.12</td>\n",
              "      <td>313.97</td>\n",
              "    </tr>\n",
              "    <tr>\n",
              "      <th>3</th>\n",
              "      <td>Wraps</td>\n",
              "      <td>345.61</td>\n",
              "      <td>345.61</td>\n",
              "      <td>305.37</td>\n",
              "      <td>547.04</td>\n",
              "    </tr>\n",
              "    <tr>\n",
              "      <th>4</th>\n",
              "      <td>Wraps</td>\n",
              "      <td>321.25</td>\n",
              "      <td>338.91</td>\n",
              "      <td>274.56</td>\n",
              "      <td>550.08</td>\n",
              "    </tr>\n",
              "  </tbody>\n",
              "</table>\n",
              "</div>\n",
              "      <button class=\"colab-df-convert\" onclick=\"convertToInteractive('df-b012950f-4c63-4475-8cdd-d44877b75f65')\"\n",
              "              title=\"Convert this dataframe to an interactive table.\"\n",
              "              style=\"display:none;\">\n",
              "        \n",
              "  <svg xmlns=\"http://www.w3.org/2000/svg\" height=\"24px\"viewBox=\"0 0 24 24\"\n",
              "       width=\"24px\">\n",
              "    <path d=\"M0 0h24v24H0V0z\" fill=\"none\"/>\n",
              "    <path d=\"M18.56 5.44l.94 2.06.94-2.06 2.06-.94-2.06-.94-.94-2.06-.94 2.06-2.06.94zm-11 1L8.5 8.5l.94-2.06 2.06-.94-2.06-.94L8.5 2.5l-.94 2.06-2.06.94zm10 10l.94 2.06.94-2.06 2.06-.94-2.06-.94-.94-2.06-.94 2.06-2.06.94z\"/><path d=\"M17.41 7.96l-1.37-1.37c-.4-.4-.92-.59-1.43-.59-.52 0-1.04.2-1.43.59L10.3 9.45l-7.72 7.72c-.78.78-.78 2.05 0 2.83L4 21.41c.39.39.9.59 1.41.59.51 0 1.02-.2 1.41-.59l7.78-7.78 2.81-2.81c.8-.78.8-2.07 0-2.86zM5.41 20L4 18.59l7.72-7.72 1.47 1.35L5.41 20z\"/>\n",
              "  </svg>\n",
              "      </button>\n",
              "      \n",
              "  <style>\n",
              "    .colab-df-container {\n",
              "      display:flex;\n",
              "      flex-wrap:wrap;\n",
              "      gap: 12px;\n",
              "    }\n",
              "\n",
              "    .colab-df-convert {\n",
              "      background-color: #E8F0FE;\n",
              "      border: none;\n",
              "      border-radius: 50%;\n",
              "      cursor: pointer;\n",
              "      display: none;\n",
              "      fill: #1967D2;\n",
              "      height: 32px;\n",
              "      padding: 0 0 0 0;\n",
              "      width: 32px;\n",
              "    }\n",
              "\n",
              "    .colab-df-convert:hover {\n",
              "      background-color: #E2EBFA;\n",
              "      box-shadow: 0px 1px 2px rgba(60, 64, 67, 0.3), 0px 1px 3px 1px rgba(60, 64, 67, 0.15);\n",
              "      fill: #174EA6;\n",
              "    }\n",
              "\n",
              "    [theme=dark] .colab-df-convert {\n",
              "      background-color: #3B4455;\n",
              "      fill: #D2E3FC;\n",
              "    }\n",
              "\n",
              "    [theme=dark] .colab-df-convert:hover {\n",
              "      background-color: #434B5C;\n",
              "      box-shadow: 0px 1px 3px 1px rgba(0, 0, 0, 0.15);\n",
              "      filter: drop-shadow(0px 1px 2px rgba(0, 0, 0, 0.3));\n",
              "      fill: #FFFFFF;\n",
              "    }\n",
              "  </style>\n",
              "\n",
              "      <script>\n",
              "        const buttonEl =\n",
              "          document.querySelector('#df-b012950f-4c63-4475-8cdd-d44877b75f65 button.colab-df-convert');\n",
              "        buttonEl.style.display =\n",
              "          google.colab.kernel.accessAllowed ? 'block' : 'none';\n",
              "\n",
              "        async function convertToInteractive(key) {\n",
              "          const element = document.querySelector('#df-b012950f-4c63-4475-8cdd-d44877b75f65');\n",
              "          const dataTable =\n",
              "            await google.colab.kernel.invokeFunction('convertToInteractive',\n",
              "                                                     [key], {});\n",
              "          if (!dataTable) return;\n",
              "\n",
              "          const docLinkHtml = 'Like what you see? Visit the ' +\n",
              "            '<a target=\"_blank\" href=https://colab.research.google.com/notebooks/data_table.ipynb>data table notebook</a>'\n",
              "            + ' to learn more about interactive tables.';\n",
              "          element.innerHTML = '';\n",
              "          dataTable['output_type'] = 'display_data';\n",
              "          await google.colab.output.renderOutput(dataTable, element);\n",
              "          const docLink = document.createElement('div');\n",
              "          docLink.innerHTML = docLinkHtml;\n",
              "          element.appendChild(docLink);\n",
              "        }\n",
              "      </script>\n",
              "    </div>\n",
              "  </div>\n",
              "  "
            ]
          },
          "metadata": {},
          "execution_count": 4
        }
      ]
    },
    {
      "cell_type": "code",
      "source": [
        "SBD.isna().sum()"
      ],
      "metadata": {
        "colab": {
          "base_uri": "https://localhost:8080/"
        },
        "id": "sFFbEj8XrdlS",
        "outputId": "72755aaf-5604-4bdc-e12f-d3d9cfa0c557"
      },
      "execution_count": 5,
      "outputs": [
        {
          "output_type": "execute_result",
          "data": {
            "text/plain": [
              "Equipment       0\n",
              "Wilks           0\n",
              "McCulloch       0\n",
              "Glossbrenner    0\n",
              "IPFPoints       0\n",
              "dtype: int64"
            ]
          },
          "metadata": {},
          "execution_count": 5
        }
      ]
    },
    {
      "cell_type": "code",
      "source": [
        "df['Equipment'].value_counts().plot(kind=\"bar\",rot=0)"
      ],
      "metadata": {
        "colab": {
          "base_uri": "https://localhost:8080/",
          "height": 283
        },
        "id": "j_kabwhcx8sB",
        "outputId": "04382dd5-8d5b-4d37-939a-8f03aeb68f28"
      },
      "execution_count": 53,
      "outputs": [
        {
          "output_type": "execute_result",
          "data": {
            "text/plain": [
              "<matplotlib.axes._subplots.AxesSubplot at 0x7fa353273510>"
            ]
          },
          "metadata": {},
          "execution_count": 53
        },
        {
          "output_type": "display_data",
          "data": {
            "text/plain": [
              "<Figure size 432x288 with 1 Axes>"
            ],
            "image/png": "[encoded data removed]"
          },
          "metadata": {
            "needs_background": "light"
          }
        }
      ]
    },
    {
      "cell_type": "code",
      "source": [
        "df['Sex'].value_counts().plot(kind=\"bar\",rot=0)"
      ],
      "metadata": {
        "id": "5aHFyA702EY9"
      },
      "execution_count": null,
      "outputs": []
    },
    {
      "cell_type": "code",
      "source": [
        "SBD.head(10)\n",
        "SBD.hist(figsize=(10,10))"
      ],
      "metadata": {
        "colab": {
          "base_uri": "https://localhost:8080/",
          "height": 699
        },
        "id": "eZQsBr2vyh3q",
        "outputId": "9c7c0c20-affb-4f46-9a9d-a9c5ff097f9d"
      },
      "execution_count": 7,
      "outputs": [
        {
          "output_type": "execute_result",
          "data": {
            "text/plain": [
              "array([[<matplotlib.axes._subplots.AxesSubplot object at 0x7fa36ff59290>,\n",
              "        <matplotlib.axes._subplots.AxesSubplot object at 0x7fa35c019110>],\n",
              "       [<matplotlib.axes._subplots.AxesSubplot object at 0x7fa3581c5610>,\n",
              "        <matplotlib.axes._subplots.AxesSubplot object at 0x7fa358175c10>]],\n",
              "      dtype=object)"
            ]
          },
          "metadata": {},
          "execution_count": 7
        },
        {
          "output_type": "display_data",
          "data": {
            "text/plain": [
              "<Figure size 720x720 with 4 Axes>"
            ],
            "image/png": "[encoded data removed]"
          },
          "metadata": {
            "needs_background": "light"
          }
        }
      ]
    },
    {
      "cell_type": "code",
      "source": [
        "n_SBD = (SBD.groupby('Equipment').apply(lambda df: print(df.head(), '\\n')) )"
      ],
      "metadata": {
        "colab": {
          "base_uri": "https://localhost:8080/"
        },
        "id": "KcKiP_obrqdh",
        "outputId": "d317f963-0917-41a0-80c1-1a4983772c77"
      },
      "execution_count": 8,
      "outputs": [
        {
          "output_type": "stream",
          "name": "stdout",
          "text": [
            "     Equipment   Wilks  McCulloch  Glossbrenner  IPFPoints\n",
            "396  Multi-ply  329.88     329.88        289.13     461.36\n",
            "397  Multi-ply  493.66     493.66        468.23     555.98\n",
            "398  Multi-ply  366.95     366.95        354.36     470.47\n",
            "399  Multi-ply  305.92     503.23        294.12     393.71\n",
            "400  Multi-ply  491.11     491.11        461.09     523.21 \n",
            "\n",
            "   Equipment   Wilks  McCulloch  Glossbrenner  IPFPoints\n",
            "2        Raw   38.56      38.56         34.12     313.97\n",
            "11       Raw  333.24     333.24        285.55     571.03\n",
            "14       Raw  290.95     302.58        256.21     486.30\n",
            "19       Raw  353.56     353.56        310.54     599.76\n",
            "21       Raw  294.98     294.98        259.82     492.05 \n",
            "\n",
            "       Equipment   Wilks  McCulloch  Glossbrenner  IPFPoints\n",
            "82    Single-ply   98.38      98.38         95.01     495.77\n",
            "5919  Single-ply  121.29     143.61        117.12     574.05\n",
            "6622  Single-ply  537.05     537.05        514.64     637.68\n",
            "8185  Single-ply  423.91     423.91        407.86     526.28\n",
            "8186  Single-ply   37.20      43.90         32.67     352.04 \n",
            "\n",
            "       Equipment   Wilks  McCulloch  Glossbrenner  IPFPoints\n",
            "64336     Straps  261.86     261.86        250.05     988.13\n",
            "796829    Straps  225.66     225.66        217.55     850.12\n",
            "796830    Straps  227.46     227.46        219.36     856.40\n",
            "796831    Straps  219.40     219.40        211.46     824.96\n",
            "796832    Straps  217.40     217.40        209.22     818.97 \n",
            "\n",
            "  Equipment   Wilks  McCulloch  Glossbrenner  IPFPoints\n",
            "0     Wraps  324.16     324.16        286.42     511.15\n",
            "1     Wraps  378.07     378.07        334.16     595.65\n",
            "3     Wraps  345.61     345.61        305.37     547.04\n",
            "4     Wraps  321.25     338.91        274.56     550.08\n",
            "5     Wraps  354.74     354.74        312.20     596.18 \n",
            "\n"
          ]
        }
      ]
    },
    {
      "cell_type": "code",
      "source": [
        "import seaborn as sns\n",
        "\n",
        "cor = SBD.corr()\n",
        "print(cor)\n",
        "sns.heatmap(cor)"
      ],
      "metadata": {
        "colab": {
          "base_uri": "https://localhost:8080/",
          "height": 379
        },
        "id": "fCMZo2jyqnVr",
        "outputId": "b75571e5-c051-4f79-e362-c6041ebda92b"
      },
      "execution_count": 9,
      "outputs": [
        {
          "output_type": "stream",
          "name": "stdout",
          "text": [
            "                 Wilks  McCulloch  Glossbrenner  IPFPoints\n",
            "Wilks         1.000000   0.985706      0.995370   0.263066\n",
            "McCulloch     0.985706   1.000000      0.981568   0.245303\n",
            "Glossbrenner  0.995370   0.981568      1.000000   0.262004\n",
            "IPFPoints     0.263066   0.245303      0.262004   1.000000\n"
          ]
        },
        {
          "output_type": "execute_result",
          "data": {
            "text/plain": [
              "<matplotlib.axes._subplots.AxesSubplot at 0x7fa357eee590>"
            ]
          },
          "metadata": {},
          "execution_count": 9
        },
        {
          "output_type": "display_data",
          "data": {
            "text/plain": [
              "<Figure size 432x288 with 2 Axes>"
            ],
            "image/png": "[encoded data removed]"
          },
          "metadata": {
            "needs_background": "light"
          }
        }
      ]
    },
    {
      "cell_type": "code",
      "source": [
        "k = 9\n",
        "wilks_cut = pd.cut(SBD['Wilks'],k,labels=range(k))\n",
        "wilks_cut"
      ],
      "metadata": {
        "colab": {
          "base_uri": "https://localhost:8080/"
        },
        "id": "WKZkIj3DrxUC",
        "outputId": "ffed0cc1-1d7c-42b7-8c31-acb48ae51119"
      },
      "execution_count": 10,
      "outputs": [
        {
          "output_type": "execute_result",
          "data": {
            "text/plain": [
              "0          3\n",
              "1          4\n",
              "2          0\n",
              "3          3\n",
              "4          3\n",
              "          ..\n",
              "1423347    4\n",
              "1423348    4\n",
              "1423349    3\n",
              "1423350    3\n",
              "1423351    3\n",
              "Name: Wilks, Length: 1273138, dtype: category\n",
              "Categories (9, int64): [0 < 1 < 2 < 3 ... 5 < 6 < 7 < 8]"
            ]
          },
          "metadata": {},
          "execution_count": 10
        }
      ]
    },
    {
      "cell_type": "code",
      "source": [
        "wilks_cut.hist()"
      ],
      "metadata": {
        "colab": {
          "base_uri": "https://localhost:8080/",
          "height": 286
        },
        "id": "FxCUjPujsNKy",
        "outputId": "1f09d6fe-03b5-4bc7-f240-05c2916a0f85"
      },
      "execution_count": 11,
      "outputs": [
        {
          "output_type": "execute_result",
          "data": {
            "text/plain": [
              "<matplotlib.axes._subplots.AxesSubplot at 0x7fa354e5b5d0>"
            ]
          },
          "metadata": {},
          "execution_count": 11
        },
        {
          "output_type": "display_data",
          "data": {
            "text/plain": [
              "<Figure size 432x288 with 1 Axes>"
            ],
            "image/png": "[encoded data removed]"
          },
          "metadata": {
            "needs_background": "light"
          }
        }
      ]
    },
    {
      "cell_type": "code",
      "source": [
        "from sklearn.preprocessing import StandardScaler\n",
        "\n",
        "features = ['Wilks','McCulloch','Glossbrenner','IPFPoints']\n",
        "x = SBD.loc[:,features].values\n",
        "y = SBD.loc[:,['Equipment']].values\n",
        "x = StandardScaler().fit_transform(x)"
      ],
      "metadata": {
        "id": "9mddCbV6tMOk"
      },
      "execution_count": 12,
      "outputs": []
    },
    {
      "cell_type": "code",
      "source": [
        "from sklearn.decomposition import PCA\n",
        "\n",
        "pca = PCA(n_components=2)\n",
        "model = pca.fit_transform(x)\n",
        "df_SBD = pd.DataFrame(data = model,columns = ['pc1','pc2'])\n",
        "pcaSBD = pd.concat([df_SBD,SBD[['Equipment']]],axis = 1).dropna()\n",
        "pcaSBD"
      ],
      "metadata": {
        "colab": {
          "base_uri": "https://localhost:8080/",
          "height": 423
        },
        "id": "ABTuADHxshbC",
        "outputId": "a5088777-7659-4d53-fc3b-8a9d7841d292"
      },
      "execution_count": 13,
      "outputs": [
        {
          "output_type": "execute_result",
          "data": {
            "text/plain": [
              "              pc1       pc2 Equipment\n",
              "0        0.382056  0.149801     Wraps\n",
              "1        1.255038  0.724560     Wraps\n",
              "2       -3.775714 -0.735471       Raw\n",
              "3        0.733391  0.398100     Wraps\n",
              "4        0.450137  0.484279     Wraps\n",
              "...           ...       ...       ...\n",
              "1273133  2.050427  0.119726       Raw\n",
              "1273134  2.056481  0.018457       Raw\n",
              "1273135  0.973347 -0.360883       Raw\n",
              "1273136  0.388337 -0.651878       Raw\n",
              "1273137  0.063897 -0.984879       Raw\n",
              "\n",
              "[1135952 rows x 3 columns]"
            ],
            "text/html": [
              "\n",
              "  <div id=\"df-0f2f1ef9-949f-48af-b6fc-2b44f8b1e91f\">\n",
              "    <div class=\"colab-df-container\">\n",
              "      <div>\n",
              "<style scoped>\n",
              "    .dataframe tbody tr th:only-of-type {\n",
              "        vertical-align: middle;\n",
              "    }\n",
              "\n",
              "    .dataframe tbody tr th {\n",
              "        vertical-align: top;\n",
              "    }\n",
              "\n",
              "    .dataframe thead th {\n",
              "        text-align: right;\n",
              "    }\n",
              "</style>\n",
              "<table border=\"1\" class=\"dataframe\">\n",
              "  <thead>\n",
              "    <tr style=\"text-align: right;\">\n",
              "      <th></th>\n",
              "      <th>pc1</th>\n",
              "      <th>pc2</th>\n",
              "      <th>Equipment</th>\n",
              "    </tr>\n",
              "  </thead>\n",
              "  <tbody>\n",
              "    <tr>\n",
              "      <th>0</th>\n",
              "      <td>0.382056</td>\n",
              "      <td>0.149801</td>\n",
              "      <td>Wraps</td>\n",
              "    </tr>\n",
              "    <tr>\n",
              "      <th>1</th>\n",
              "      <td>1.255038</td>\n",
              "      <td>0.724560</td>\n",
              "      <td>Wraps</td>\n",
              "    </tr>\n",
              "    <tr>\n",
              "      <th>2</th>\n",
              "      <td>-3.775714</td>\n",
              "      <td>-0.735471</td>\n",
              "      <td>Raw</td>\n",
              "    </tr>\n",
              "    <tr>\n",
              "      <th>3</th>\n",
              "      <td>0.733391</td>\n",
              "      <td>0.398100</td>\n",
              "      <td>Wraps</td>\n",
              "    </tr>\n",
              "    <tr>\n",
              "      <th>4</th>\n",
              "      <td>0.450137</td>\n",
              "      <td>0.484279</td>\n",
              "      <td>Wraps</td>\n",
              "    </tr>\n",
              "    <tr>\n",
              "      <th>...</th>\n",
              "      <td>...</td>\n",
              "      <td>...</td>\n",
              "      <td>...</td>\n",
              "    </tr>\n",
              "    <tr>\n",
              "      <th>1273133</th>\n",
              "      <td>2.050427</td>\n",
              "      <td>0.119726</td>\n",
              "      <td>Raw</td>\n",
              "    </tr>\n",
              "    <tr>\n",
              "      <th>1273134</th>\n",
              "      <td>2.056481</td>\n",
              "      <td>0.018457</td>\n",
              "      <td>Raw</td>\n",
              "    </tr>\n",
              "    <tr>\n",
              "      <th>1273135</th>\n",
              "      <td>0.973347</td>\n",
              "      <td>-0.360883</td>\n",
              "      <td>Raw</td>\n",
              "    </tr>\n",
              "    <tr>\n",
              "      <th>1273136</th>\n",
              "      <td>0.388337</td>\n",
              "      <td>-0.651878</td>\n",
              "      <td>Raw</td>\n",
              "    </tr>\n",
              "    <tr>\n",
              "      <th>1273137</th>\n",
              "      <td>0.063897</td>\n",
              "      <td>-0.984879</td>\n",
              "      <td>Raw</td>\n",
              "    </tr>\n",
              "  </tbody>\n",
              "</table>\n",
              "<p>1135952 rows × 3 columns</p>\n",
              "</div>\n",
              "      <button class=\"colab-df-convert\" onclick=\"convertToInteractive('df-0f2f1ef9-949f-48af-b6fc-2b44f8b1e91f')\"\n",
              "              title=\"Convert this dataframe to an interactive table.\"\n",
              "              style=\"display:none;\">\n",
              "        \n",
              "  <svg xmlns=\"http://www.w3.org/2000/svg\" height=\"24px\"viewBox=\"0 0 24 24\"\n",
              "       width=\"24px\">\n",
              "    <path d=\"M0 0h24v24H0V0z\" fill=\"none\"/>\n",
              "    <path d=\"M18.56 5.44l.94 2.06.94-2.06 2.06-.94-2.06-.94-.94-2.06-.94 2.06-2.06.94zm-11 1L8.5 8.5l.94-2.06 2.06-.94-2.06-.94L8.5 2.5l-.94 2.06-2.06.94zm10 10l.94 2.06.94-2.06 2.06-.94-2.06-.94-.94-2.06-.94 2.06-2.06.94z\"/><path d=\"M17.41 7.96l-1.37-1.37c-.4-.4-.92-.59-1.43-.59-.52 0-1.04.2-1.43.59L10.3 9.45l-7.72 7.72c-.78.78-.78 2.05 0 2.83L4 21.41c.39.39.9.59 1.41.59.51 0 1.02-.2 1.41-.59l7.78-7.78 2.81-2.81c.8-.78.8-2.07 0-2.86zM5.41 20L4 18.59l7.72-7.72 1.47 1.35L5.41 20z\"/>\n",
              "  </svg>\n",
              "      </button>\n",
              "      \n",
              "  <style>\n",
              "    .colab-df-container {\n",
              "      display:flex;\n",
              "      flex-wrap:wrap;\n",
              "      gap: 12px;\n",
              "    }\n",
              "\n",
              "    .colab-df-convert {\n",
              "      background-color: #E8F0FE;\n",
              "      border: none;\n",
              "      border-radius: 50%;\n",
              "      cursor: pointer;\n",
              "      display: none;\n",
              "      fill: #1967D2;\n",
              "      height: 32px;\n",
              "      padding: 0 0 0 0;\n",
              "      width: 32px;\n",
              "    }\n",
              "\n",
              "    .colab-df-convert:hover {\n",
              "      background-color: #E2EBFA;\n",
              "      box-shadow: 0px 1px 2px rgba(60, 64, 67, 0.3), 0px 1px 3px 1px rgba(60, 64, 67, 0.15);\n",
              "      fill: #174EA6;\n",
              "    }\n",
              "\n",
              "    [theme=dark] .colab-df-convert {\n",
              "      background-color: #3B4455;\n",
              "      fill: #D2E3FC;\n",
              "    }\n",
              "\n",
              "    [theme=dark] .colab-df-convert:hover {\n",
              "      background-color: #434B5C;\n",
              "      box-shadow: 0px 1px 3px 1px rgba(0, 0, 0, 0.15);\n",
              "      filter: drop-shadow(0px 1px 2px rgba(0, 0, 0, 0.3));\n",
              "      fill: #FFFFFF;\n",
              "    }\n",
              "  </style>\n",
              "\n",
              "      <script>\n",
              "        const buttonEl =\n",
              "          document.querySelector('#df-0f2f1ef9-949f-48af-b6fc-2b44f8b1e91f button.colab-df-convert');\n",
              "        buttonEl.style.display =\n",
              "          google.colab.kernel.accessAllowed ? 'block' : 'none';\n",
              "\n",
              "        async function convertToInteractive(key) {\n",
              "          const element = document.querySelector('#df-0f2f1ef9-949f-48af-b6fc-2b44f8b1e91f');\n",
              "          const dataTable =\n",
              "            await google.colab.kernel.invokeFunction('convertToInteractive',\n",
              "                                                     [key], {});\n",
              "          if (!dataTable) return;\n",
              "\n",
              "          const docLinkHtml = 'Like what you see? Visit the ' +\n",
              "            '<a target=\"_blank\" href=https://colab.research.google.com/notebooks/data_table.ipynb>data table notebook</a>'\n",
              "            + ' to learn more about interactive tables.';\n",
              "          element.innerHTML = '';\n",
              "          dataTable['output_type'] = 'display_data';\n",
              "          await google.colab.output.renderOutput(dataTable, element);\n",
              "          const docLink = document.createElement('div');\n",
              "          docLink.innerHTML = docLinkHtml;\n",
              "          element.appendChild(docLink);\n",
              "        }\n",
              "      </script>\n",
              "    </div>\n",
              "  </div>\n",
              "  "
            ]
          },
          "metadata": {},
          "execution_count": 13
        }
      ]
    },
    {
      "cell_type": "code",
      "source": [
        "from matplotlib import figure\n",
        "\n",
        "fig = figure.Figure(figsize = (10,10))\n",
        "ax = fig.add_subplot(1,1,1)\n",
        "ax.set_xlabel('pc1',fontsize = 15)\n",
        "ax.set_ylabel('pc1',fontsize = 15)\n",
        "ax.set_title('SBD PCA',fontsize = 20)\n",
        "targets = ['Raw','Wraps','Straps','Multi-ply','Single-ply']\n",
        "colors = ['red','blue','green','pink','yellow']\n",
        "\n",
        "for target,color in zip(targets,colors):\n",
        "  indicesTokeep = pcaSBD['Equipment'] == target\n",
        "  ax.scatter(pcaSBD.loc[indicesTokeep,'pc1']\n",
        "        ,pcaSBD.loc[indicesTokeep,'pc2']\n",
        "        ,c = color\n",
        "        ,s = 50)\n",
        "ax.legend(targets)\n",
        "ax.grid()"
      ],
      "metadata": {
        "id": "JIPDL2aev4UT"
      },
      "execution_count": 50,
      "outputs": []
    },
    {
      "cell_type": "code",
      "source": [
        "from sklearn import feature_selection as fs\n",
        "target_1 = SBD['Equipment'].values\n",
        "skb = fs.SelectKBest(fs.f_classif,k=3)\n",
        "skb.fit_transform(SBD_1,target_1)"
      ],
      "metadata": {
        "colab": {
          "base_uri": "https://localhost:8080/"
        },
        "id": "grlIDR6_1bLU",
        "outputId": "c8d5699d-390e-489b-a709-e32104a8cfda"
      },
      "execution_count": 15,
      "outputs": [
        {
          "output_type": "execute_result",
          "data": {
            "text/plain": [
              "array([[324.16, 286.42, 511.15],\n",
              "       [378.07, 334.16, 595.65],\n",
              "       [ 38.56,  34.12, 313.97],\n",
              "       ...,\n",
              "       [327.07, 316.52, 469.67],\n",
              "       [304.16, 295.66, 423.03],\n",
              "       [274.48, 264.22, 378.84]])"
            ]
          },
          "metadata": {},
          "execution_count": 15
        }
      ]
    },
    {
      "cell_type": "code",
      "source": [
        "from sklearn.model_selection import train_test_split\n",
        "\n",
        "X=SBD.drop(['Equipment'],axis=1)\n",
        "y=SBD['Equipment']\n",
        "\n",
        "X_train,X_test,y_train,y_test = train_test_split(X,y,test_size=0.2,random_state=100)\n",
        "\n",
        "list1 = [X_train,X_test,y_train,y_test]\n",
        "print(list1)"
      ],
      "metadata": {
        "colab": {
          "base_uri": "https://localhost:8080/"
        },
        "id": "6o_qXr2l3D4N",
        "outputId": "3ee060eb-3af8-4afe-9db3-6402149ffc34"
      },
      "execution_count": 16,
      "outputs": [
        {
          "output_type": "stream",
          "name": "stdout",
          "text": [
            "[          Wilks  McCulloch  Glossbrenner  IPFPoints\n",
            "946612    86.09      91.25         76.40     605.88\n",
            "665117   129.81     146.69        125.35     603.72\n",
            "285919   230.44     230.44        220.51     301.68\n",
            "1116777  274.81     274.81        242.41     392.67\n",
            "229602   258.86     258.86        227.82     434.27\n",
            "...         ...        ...           ...        ...\n",
            "238426   365.25     575.64        352.73     468.58\n",
            "72573    147.55     147.55        143.16     691.51\n",
            "971445   147.27     155.37        142.33     670.06\n",
            "236205   301.86     301.86        290.15     421.87\n",
            "1238724  208.61     208.61        183.48     351.23\n",
            "\n",
            "[1018510 rows x 4 columns],           Wilks  McCulloch  Glossbrenner  IPFPoints\n",
            "306567   324.32     324.32        311.12     408.81\n",
            "718499   363.97     363.97        348.54     514.45\n",
            "1306119  319.20     319.20        307.60     413.54\n",
            "1130135  269.76     269.76        239.17     367.01\n",
            "520893   240.03     240.03        232.60     330.36\n",
            "...         ...        ...           ...        ...\n",
            "894189    61.79     101.64         59.34     166.99\n",
            "624014   496.76     496.76        476.14     594.66\n",
            "66624    286.27     295.15        251.61     484.32\n",
            "528802   346.40     346.40        329.96     415.76\n",
            "555628   353.13     353.13        311.96     561.82\n",
            "\n",
            "[254628 rows x 4 columns], 946612            Raw\n",
            "665117     Single-ply\n",
            "285919     Single-ply\n",
            "1116777    Single-ply\n",
            "229602            Raw\n",
            "              ...    \n",
            "238426     Single-ply\n",
            "72573      Single-ply\n",
            "971445     Single-ply\n",
            "236205            Raw\n",
            "1238724           Raw\n",
            "Name: Equipment, Length: 1018510, dtype: object, 306567     Single-ply\n",
            "718499            Raw\n",
            "1306119    Single-ply\n",
            "1130135    Single-ply\n",
            "520893     Single-ply\n",
            "              ...    \n",
            "894189            Raw\n",
            "624014      Multi-ply\n",
            "66624           Wraps\n",
            "528802     Single-ply\n",
            "555628            Raw\n",
            "Name: Equipment, Length: 254628, dtype: object]\n"
          ]
        }
      ]
    },
    {
      "cell_type": "code",
      "source": [
        "from sklearn import tree\n",
        "\n",
        "tree = tree.DecisionTreeClassifier()\n",
        "tree.fit(SBD_1,target_1)\n",
        "tree.feature_importances_"
      ],
      "metadata": {
        "colab": {
          "base_uri": "https://localhost:8080/"
        },
        "id": "bXnHqJApncxJ",
        "outputId": "43806f90-a4f5-405e-8d8f-db44d819cf61"
      },
      "execution_count": 17,
      "outputs": [
        {
          "output_type": "execute_result",
          "data": {
            "text/plain": [
              "array([0.38612348, 0.09188571, 0.15677594, 0.36521487])"
            ]
          },
          "metadata": {},
          "execution_count": 17
        }
      ]
    },
    {
      "cell_type": "code",
      "source": [
        "from sklearn import ensemble as es\n",
        "from sklearn import feature_selection as fs \n",
        "rfc = es.RandomForestClassifier(n_estimators=10)\n",
        "rfc.fit(SBD_1,target_1)\n",
        "rfc.feature_importances_\n",
        "\n",
        "# sfm = fs.SelectFromModel(es.RandomForestClassifier(n_estimators=10),0.37)\n",
        "# sfm.fit_transform(SBD_1,target_1)"
      ],
      "metadata": {
        "colab": {
          "base_uri": "https://localhost:8080/"
        },
        "id": "sedgltm9oOYx",
        "outputId": "1ac0033e-88e0-4f72-b938-4bfe296272c7"
      },
      "execution_count": 19,
      "outputs": [
        {
          "output_type": "execute_result",
          "data": {
            "text/plain": [
              "array([0.23479678, 0.15110769, 0.20214532, 0.41195021])"
            ]
          },
          "metadata": {},
          "execution_count": 19
        }
      ]
    },
    {
      "cell_type": "code",
      "source": [
        "from sklearn import decomposition as dc\n",
        "from sklearn.decomposition import PCA\n",
        "\n",
        "pca = dc.PCA(n_components=2)\n",
        "pcs = pca.fit_transform(SBD_1,target_1)\n",
        "# scree_plot = pd.Series(pca.explained_variance_ratio_,index=['pc1','pc2','pc3','pc4']).plot.bar(title='Screen plot',rot=0)\n",
        "\n",
        "df_1 = pd.DataFrame(pcs,columns=['Pc1','Pc2'])\n",
        "df_1 = pd.concat([df_1,SBD[['Equipment']]],axis = 1).dropna()\n",
        "color = ['red' if t=='Raw' else 'blue' if t=='Wraps' else 'green' if t=='Straps' else 'pink' if t=='Multi-ply' else 'yellow' if t=='Single-ply' else 'black' for t in df_1['Equipment']]\n",
        "df_1.plot.scatter(0,1,s=0.1,c=color)\n"
      ],
      "metadata": {
        "colab": {
          "base_uri": "https://localhost:8080/",
          "height": 297
        },
        "id": "B2dRAgmKrBPu",
        "outputId": "29b835c4-d27f-4b18-8f5b-a39ca692226d"
      },
      "execution_count": 52,
      "outputs": [
        {
          "output_type": "execute_result",
          "data": {
            "text/plain": [
              "<matplotlib.axes._subplots.AxesSubplot at 0x7fa353889d10>"
            ]
          },
          "metadata": {},
          "execution_count": 52
        },
        {
          "output_type": "display_data",
          "data": {
            "text/plain": [
              "<Figure size 432x288 with 1 Axes>"
            ],
            "image/png": "[encoded data removed]"
          },
          "metadata": {
            "needs_background": "light"
          }
        }
      ]
    }
  ]
}