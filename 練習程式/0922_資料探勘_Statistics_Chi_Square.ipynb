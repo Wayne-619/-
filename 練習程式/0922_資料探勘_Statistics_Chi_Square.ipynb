{
  "nbformat": 4,
  "nbformat_minor": 0,
  "metadata": {
    "colab": {
      "provenance": [],
      "collapsed_sections": []
    },
    "kernelspec": {
      "name": "python3",
      "display_name": "Python 3"
    },
    "language_info": {
      "name": "python"
    }
  },
  "cells": [
    {
      "cell_type": "code",
      "execution_count": 163,
      "metadata": {
        "id": "wWxH9dP-yzPJ"
      },
      "outputs": [],
      "source": [
        "Amy_male = (661*804)/1847\n",
        "Amy_female = (661*1043)/1847"
      ]
    },
    {
      "cell_type": "code",
      "source": [
        "Bob_male = (278*804)/1847\n",
        "Bob_female = (278*1043)/1847"
      ],
      "metadata": {
        "id": "l3uX4pEVzSUi"
      },
      "execution_count": 164,
      "outputs": []
    },
    {
      "cell_type": "code",
      "source": [
        "Kevin_male = (908*804)/1847\n",
        "Kevin_female = (908*1043)/1847"
      ],
      "metadata": {
        "id": "On35bQqNz5kd"
      },
      "execution_count": 165,
      "outputs": []
    },
    {
      "cell_type": "code",
      "source": [
        "print(Amy_male)\n",
        "print(Amy_female)\n",
        "print(Bob_male)\n",
        "print(Bob_female)\n",
        "print(Kevin_male)\n",
        "print(Kevin_female)"
      ],
      "metadata": {
        "colab": {
          "base_uri": "https://localhost:8080/"
        },
        "id": "Qcfygli90Zdj",
        "outputId": "700cc525-4903-4df0-f976-49f509e38255"
      },
      "execution_count": 166,
      "outputs": [
        {
          "output_type": "stream",
          "name": "stdout",
          "text": [
            "287.7336220898755\n",
            "373.2663779101245\n",
            "121.01353546291283\n",
            "156.98646453708716\n",
            "395.2528424472117\n",
            "512.7471575527883\n"
          ]
        }
      ]
    },
    {
      "cell_type": "code",
      "source": [
        "import pandas as pd\n",
        "df_ = pd.read_csv(\"/content/統計作業-獨立.csv\")\n",
        "df_"
      ],
      "metadata": {
        "colab": {
          "base_uri": "https://localhost:8080/",
          "height": 143
        },
        "id": "cxr_ookaCKnn",
        "outputId": "2d97e236-9a18-4156-b8c0-ce2487c08788"
      },
      "execution_count": 167,
      "outputs": [
        {
          "output_type": "execute_result",
          "data": {
            "text/plain": [
              "   Gander  Amy  Bob  Kevin  Total\n",
              "0    Male  315  152    337    804\n",
              "1  Female  346  126    571   1043\n",
              "2   Total  661  278    908   1847"
            ],
            "text/html": [
              "\n",
              "  <div id=\"df-f16c1bb5-9aa0-4c10-99d4-c1a6b9f70e17\">\n",
              "    <div class=\"colab-df-container\">\n",
              "      <div>\n",
              "<style scoped>\n",
              "    .dataframe tbody tr th:only-of-type {\n",
              "        vertical-align: middle;\n",
              "    }\n",
              "\n",
              "    .dataframe tbody tr th {\n",
              "        vertical-align: top;\n",
              "    }\n",
              "\n",
              "    .dataframe thead th {\n",
              "        text-align: right;\n",
              "    }\n",
              "</style>\n",
              "<table border=\"1\" class=\"dataframe\">\n",
              "  <thead>\n",
              "    <tr style=\"text-align: right;\">\n",
              "      <th></th>\n",
              "      <th>Gander</th>\n",
              "      <th>Amy</th>\n",
              "      <th>Bob</th>\n",
              "      <th>Kevin</th>\n",
              "      <th>Total</th>\n",
              "    </tr>\n",
              "  </thead>\n",
              "  <tbody>\n",
              "    <tr>\n",
              "      <th>0</th>\n",
              "      <td>Male</td>\n",
              "      <td>315</td>\n",
              "      <td>152</td>\n",
              "      <td>337</td>\n",
              "      <td>804</td>\n",
              "    </tr>\n",
              "    <tr>\n",
              "      <th>1</th>\n",
              "      <td>Female</td>\n",
              "      <td>346</td>\n",
              "      <td>126</td>\n",
              "      <td>571</td>\n",
              "      <td>1043</td>\n",
              "    </tr>\n",
              "    <tr>\n",
              "      <th>2</th>\n",
              "      <td>Total</td>\n",
              "      <td>661</td>\n",
              "      <td>278</td>\n",
              "      <td>908</td>\n",
              "      <td>1847</td>\n",
              "    </tr>\n",
              "  </tbody>\n",
              "</table>\n",
              "</div>\n",
              "      <button class=\"colab-df-convert\" onclick=\"convertToInteractive('df-f16c1bb5-9aa0-4c10-99d4-c1a6b9f70e17')\"\n",
              "              title=\"Convert this dataframe to an interactive table.\"\n",
              "              style=\"display:none;\">\n",
              "        \n",
              "  <svg xmlns=\"http://www.w3.org/2000/svg\" height=\"24px\"viewBox=\"0 0 24 24\"\n",
              "       width=\"24px\">\n",
              "    <path d=\"M0 0h24v24H0V0z\" fill=\"none\"/>\n",
              "    <path d=\"M18.56 5.44l.94 2.06.94-2.06 2.06-.94-2.06-.94-.94-2.06-.94 2.06-2.06.94zm-11 1L8.5 8.5l.94-2.06 2.06-.94-2.06-.94L8.5 2.5l-.94 2.06-2.06.94zm10 10l.94 2.06.94-2.06 2.06-.94-2.06-.94-.94-2.06-.94 2.06-2.06.94z\"/><path d=\"M17.41 7.96l-1.37-1.37c-.4-.4-.92-.59-1.43-.59-.52 0-1.04.2-1.43.59L10.3 9.45l-7.72 7.72c-.78.78-.78 2.05 0 2.83L4 21.41c.39.39.9.59 1.41.59.51 0 1.02-.2 1.41-.59l7.78-7.78 2.81-2.81c.8-.78.8-2.07 0-2.86zM5.41 20L4 18.59l7.72-7.72 1.47 1.35L5.41 20z\"/>\n",
              "  </svg>\n",
              "      </button>\n",
              "      \n",
              "  <style>\n",
              "    .colab-df-container {\n",
              "      display:flex;\n",
              "      flex-wrap:wrap;\n",
              "      gap: 12px;\n",
              "    }\n",
              "\n",
              "    .colab-df-convert {\n",
              "      background-color: #E8F0FE;\n",
              "      border: none;\n",
              "      border-radius: 50%;\n",
              "      cursor: pointer;\n",
              "      display: none;\n",
              "      fill: #1967D2;\n",
              "      height: 32px;\n",
              "      padding: 0 0 0 0;\n",
              "      width: 32px;\n",
              "    }\n",
              "\n",
              "    .colab-df-convert:hover {\n",
              "      background-color: #E2EBFA;\n",
              "      box-shadow: 0px 1px 2px rgba(60, 64, 67, 0.3), 0px 1px 3px 1px rgba(60, 64, 67, 0.15);\n",
              "      fill: #174EA6;\n",
              "    }\n",
              "\n",
              "    [theme=dark] .colab-df-convert {\n",
              "      background-color: #3B4455;\n",
              "      fill: #D2E3FC;\n",
              "    }\n",
              "\n",
              "    [theme=dark] .colab-df-convert:hover {\n",
              "      background-color: #434B5C;\n",
              "      box-shadow: 0px 1px 3px 1px rgba(0, 0, 0, 0.15);\n",
              "      filter: drop-shadow(0px 1px 2px rgba(0, 0, 0, 0.3));\n",
              "      fill: #FFFFFF;\n",
              "    }\n",
              "  </style>\n",
              "\n",
              "      <script>\n",
              "        const buttonEl =\n",
              "          document.querySelector('#df-f16c1bb5-9aa0-4c10-99d4-c1a6b9f70e17 button.colab-df-convert');\n",
              "        buttonEl.style.display =\n",
              "          google.colab.kernel.accessAllowed ? 'block' : 'none';\n",
              "\n",
              "        async function convertToInteractive(key) {\n",
              "          const element = document.querySelector('#df-f16c1bb5-9aa0-4c10-99d4-c1a6b9f70e17');\n",
              "          const dataTable =\n",
              "            await google.colab.kernel.invokeFunction('convertToInteractive',\n",
              "                                                     [key], {});\n",
              "          if (!dataTable) return;\n",
              "\n",
              "          const docLinkHtml = 'Like what you see? Visit the ' +\n",
              "            '<a target=\"_blank\" href=https://colab.research.google.com/notebooks/data_table.ipynb>data table notebook</a>'\n",
              "            + ' to learn more about interactive tables.';\n",
              "          element.innerHTML = '';\n",
              "          dataTable['output_type'] = 'display_data';\n",
              "          await google.colab.output.renderOutput(dataTable, element);\n",
              "          const docLink = document.createElement('div');\n",
              "          docLink.innerHTML = docLinkHtml;\n",
              "          element.appendChild(docLink);\n",
              "        }\n",
              "      </script>\n",
              "    </div>\n",
              "  </div>\n",
              "  "
            ]
          },
          "metadata": {},
          "execution_count": 167
        }
      ]
    },
    {
      "cell_type": "code",
      "source": [
        "amy = [\"315(287.7336)\",\"346(373.2663)\",\"(661)\"]\n",
        "bob = [\"152(121.0135)\",\"126(156.9864)\",\"(278)\"]\n",
        "kevin = [\"337(395.2528)\",\"571(512.7471)\",\"(908)\"]\n",
        "total = [\"(804)\",\"(1043)\",\"(1847)\"]\n",
        "\n",
        "dic = {\"Amy\":amy,\"Bob\":bob,\"Kevin\":kevin,\"(Total)\":total}\n",
        "gander = pd.Index(data=[\"Male\",\"Female\",\"(Total)\"],name=\"Gander\")\n",
        "df = pd.DataFrame(dic,index= gander)\n",
        "df"
      ],
      "metadata": {
        "colab": {
          "base_uri": "https://localhost:8080/",
          "height": 175
        },
        "id": "9MsgbDuQFgP8",
        "outputId": "cbd56e19-47f2-4074-8a87-08005d2bafd1"
      },
      "execution_count": 168,
      "outputs": [
        {
          "output_type": "execute_result",
          "data": {
            "text/plain": [
              "                   Amy            Bob          Kevin (Total)\n",
              "Gander                                                      \n",
              "Male     315(287.7336)  152(121.0135)  337(395.2528)   (804)\n",
              "Female   346(373.2663)  126(156.9864)  571(512.7471)  (1043)\n",
              "(Total)          (661)          (278)          (908)  (1847)"
            ],
            "text/html": [
              "\n",
              "  <div id=\"df-c27fc2a0-cddf-4ace-a27c-26693eab83d5\">\n",
              "    <div class=\"colab-df-container\">\n",
              "      <div>\n",
              "<style scoped>\n",
              "    .dataframe tbody tr th:only-of-type {\n",
              "        vertical-align: middle;\n",
              "    }\n",
              "\n",
              "    .dataframe tbody tr th {\n",
              "        vertical-align: top;\n",
              "    }\n",
              "\n",
              "    .dataframe thead th {\n",
              "        text-align: right;\n",
              "    }\n",
              "</style>\n",
              "<table border=\"1\" class=\"dataframe\">\n",
              "  <thead>\n",
              "    <tr style=\"text-align: right;\">\n",
              "      <th></th>\n",
              "      <th>Amy</th>\n",
              "      <th>Bob</th>\n",
              "      <th>Kevin</th>\n",
              "      <th>(Total)</th>\n",
              "    </tr>\n",
              "    <tr>\n",
              "      <th>Gander</th>\n",
              "      <th></th>\n",
              "      <th></th>\n",
              "      <th></th>\n",
              "      <th></th>\n",
              "    </tr>\n",
              "  </thead>\n",
              "  <tbody>\n",
              "    <tr>\n",
              "      <th>Male</th>\n",
              "      <td>315(287.7336)</td>\n",
              "      <td>152(121.0135)</td>\n",
              "      <td>337(395.2528)</td>\n",
              "      <td>(804)</td>\n",
              "    </tr>\n",
              "    <tr>\n",
              "      <th>Female</th>\n",
              "      <td>346(373.2663)</td>\n",
              "      <td>126(156.9864)</td>\n",
              "      <td>571(512.7471)</td>\n",
              "      <td>(1043)</td>\n",
              "    </tr>\n",
              "    <tr>\n",
              "      <th>(Total)</th>\n",
              "      <td>(661)</td>\n",
              "      <td>(278)</td>\n",
              "      <td>(908)</td>\n",
              "      <td>(1847)</td>\n",
              "    </tr>\n",
              "  </tbody>\n",
              "</table>\n",
              "</div>\n",
              "      <button class=\"colab-df-convert\" onclick=\"convertToInteractive('df-c27fc2a0-cddf-4ace-a27c-26693eab83d5')\"\n",
              "              title=\"Convert this dataframe to an interactive table.\"\n",
              "              style=\"display:none;\">\n",
              "        \n",
              "  <svg xmlns=\"http://www.w3.org/2000/svg\" height=\"24px\"viewBox=\"0 0 24 24\"\n",
              "       width=\"24px\">\n",
              "    <path d=\"M0 0h24v24H0V0z\" fill=\"none\"/>\n",
              "    <path d=\"M18.56 5.44l.94 2.06.94-2.06 2.06-.94-2.06-.94-.94-2.06-.94 2.06-2.06.94zm-11 1L8.5 8.5l.94-2.06 2.06-.94-2.06-.94L8.5 2.5l-.94 2.06-2.06.94zm10 10l.94 2.06.94-2.06 2.06-.94-2.06-.94-.94-2.06-.94 2.06-2.06.94z\"/><path d=\"M17.41 7.96l-1.37-1.37c-.4-.4-.92-.59-1.43-.59-.52 0-1.04.2-1.43.59L10.3 9.45l-7.72 7.72c-.78.78-.78 2.05 0 2.83L4 21.41c.39.39.9.59 1.41.59.51 0 1.02-.2 1.41-.59l7.78-7.78 2.81-2.81c.8-.78.8-2.07 0-2.86zM5.41 20L4 18.59l7.72-7.72 1.47 1.35L5.41 20z\"/>\n",
              "  </svg>\n",
              "      </button>\n",
              "      \n",
              "  <style>\n",
              "    .colab-df-container {\n",
              "      display:flex;\n",
              "      flex-wrap:wrap;\n",
              "      gap: 12px;\n",
              "    }\n",
              "\n",
              "    .colab-df-convert {\n",
              "      background-color: #E8F0FE;\n",
              "      border: none;\n",
              "      border-radius: 50%;\n",
              "      cursor: pointer;\n",
              "      display: none;\n",
              "      fill: #1967D2;\n",
              "      height: 32px;\n",
              "      padding: 0 0 0 0;\n",
              "      width: 32px;\n",
              "    }\n",
              "\n",
              "    .colab-df-convert:hover {\n",
              "      background-color: #E2EBFA;\n",
              "      box-shadow: 0px 1px 2px rgba(60, 64, 67, 0.3), 0px 1px 3px 1px rgba(60, 64, 67, 0.15);\n",
              "      fill: #174EA6;\n",
              "    }\n",
              "\n",
              "    [theme=dark] .colab-df-convert {\n",
              "      background-color: #3B4455;\n",
              "      fill: #D2E3FC;\n",
              "    }\n",
              "\n",
              "    [theme=dark] .colab-df-convert:hover {\n",
              "      background-color: #434B5C;\n",
              "      box-shadow: 0px 1px 3px 1px rgba(0, 0, 0, 0.15);\n",
              "      filter: drop-shadow(0px 1px 2px rgba(0, 0, 0, 0.3));\n",
              "      fill: #FFFFFF;\n",
              "    }\n",
              "  </style>\n",
              "\n",
              "      <script>\n",
              "        const buttonEl =\n",
              "          document.querySelector('#df-c27fc2a0-cddf-4ace-a27c-26693eab83d5 button.colab-df-convert');\n",
              "        buttonEl.style.display =\n",
              "          google.colab.kernel.accessAllowed ? 'block' : 'none';\n",
              "\n",
              "        async function convertToInteractive(key) {\n",
              "          const element = document.querySelector('#df-c27fc2a0-cddf-4ace-a27c-26693eab83d5');\n",
              "          const dataTable =\n",
              "            await google.colab.kernel.invokeFunction('convertToInteractive',\n",
              "                                                     [key], {});\n",
              "          if (!dataTable) return;\n",
              "\n",
              "          const docLinkHtml = 'Like what you see? Visit the ' +\n",
              "            '<a target=\"_blank\" href=https://colab.research.google.com/notebooks/data_table.ipynb>data table notebook</a>'\n",
              "            + ' to learn more about interactive tables.';\n",
              "          element.innerHTML = '';\n",
              "          dataTable['output_type'] = 'display_data';\n",
              "          await google.colab.output.renderOutput(dataTable, element);\n",
              "          const docLink = document.createElement('div');\n",
              "          docLink.innerHTML = docLinkHtml;\n",
              "          element.appendChild(docLink);\n",
              "        }\n",
              "      </script>\n",
              "    </div>\n",
              "  </div>\n",
              "  "
            ]
          },
          "metadata": {},
          "execution_count": 168
        }
      ]
    },
    {
      "cell_type": "code",
      "source": [
        "(((315-(Amy_male))**2)/Amy_male) + (((346-(Amy_female))**2)/Amy_female) + (((152-(Bob_male))**2)/Bob_male) + (((126-(Bob_female))**2)/Bob_female) + (((337-(Kevin_male))**2)/Kevin_male) + (((571-(Kevin_female))**2)/Kevin_female)"
      ],
      "metadata": {
        "colab": {
          "base_uri": "https://localhost:8080/"
        },
        "id": "9KhUEO7zNwaU",
        "outputId": "96302026-b85b-4ee0-9d64-9b6b74667e56"
      },
      "execution_count": 181,
      "outputs": [
        {
          "output_type": "execute_result",
          "data": {
            "text/plain": [
              "33.829555873353954"
            ]
          },
          "metadata": {},
          "execution_count": 181
        }
      ]
    },
    {
      "cell_type": "code",
      "source": [
        "(((315-287.7336)**2)/287.7336)+(((346-373.2663)**2)/373.2663)+(((152-121.0135)**2)/121.0135)+(((126-156.9864)**2)/156.9864)+(((337-395.2528)**2)/395.2528)+(((571-512.7471)**2)/512.7471)"
      ],
      "metadata": {
        "colab": {
          "base_uri": "https://localhost:8080/"
        },
        "id": "P3-IKwhmYo3-",
        "outputId": "1077d9c1-5c37-43ff-88e4-81c1911953f2"
      },
      "execution_count": 171,
      "outputs": [
        {
          "output_type": "execute_result",
          "data": {
            "text/plain": [
              "33.82954904537508"
            ]
          },
          "metadata": {},
          "execution_count": 171
        }
      ]
    },
    {
      "cell_type": "code",
      "source": [
        "r = 2\n",
        "c = 3\n",
        "DOF = (r-1)*(c-1)\n",
        "print(\"自由度:\",DOF)"
      ],
      "metadata": {
        "colab": {
          "base_uri": "https://localhost:8080/"
        },
        "id": "mdw7V70Vh9m_",
        "outputId": "1a4e96ed-db55-4a83-d5b1-2521900323d9"
      },
      "execution_count": 189,
      "outputs": [
        {
          "output_type": "stream",
          "name": "stdout",
          "text": [
            "自由度: 2\n"
          ]
        }
      ]
    },
    {
      "cell_type": "code",
      "source": [
        "from scipy.stats import chi2_contingency  \n",
        "\n",
        "observed = [\n",
        "    [315,152,337],\n",
        "    [346,126,571]\n",
        "]\n",
        "\n",
        "chi2,P,dof,expected = chi2_contingency(observed)\n",
        "\n",
        "print('chi-square:',chi2)\n",
        "print('p-value:',P)\n",
        "print('df:',dof)\n",
        "print('expected vale table:',expected)\n",
        "if P >= 0.05:\n",
        "  print(\"H0 is accepted\")\n",
        "else:\n",
        "  print(\"H0 is rejected\")"
      ],
      "metadata": {
        "colab": {
          "base_uri": "https://localhost:8080/"
        },
        "id": "iCKVkbTsUN12",
        "outputId": "b1a3b4e0-927d-4106-d15d-1a5520798466"
      },
      "execution_count": 190,
      "outputs": [
        {
          "output_type": "stream",
          "name": "stdout",
          "text": [
            "chi-square: 33.829555873353954\n",
            "p-value: 4.5082218490878234e-08\n",
            "df: 2\n",
            "expected vale table: [[287.73362209 121.01353546 395.25284245]\n",
            " [373.26637791 156.98646454 512.74715755]]\n",
            "H0 is rejected\n"
          ]
        }
      ]
    }
  ]
}