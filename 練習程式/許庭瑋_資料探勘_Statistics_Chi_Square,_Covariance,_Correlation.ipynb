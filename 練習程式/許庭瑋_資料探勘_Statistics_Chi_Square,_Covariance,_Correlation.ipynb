{
  "nbformat": 4,
  "nbformat_minor": 0,
  "metadata": {
    "colab": {
      "provenance": [],
      "collapsed_sections": []
    },
    "kernelspec": {
      "name": "python3",
      "display_name": "Python 3"
    },
    "language_info": {
      "name": "python"
    }
  },
  "cells": [
    {
      "cell_type": "code",
      "execution_count": 6,
      "metadata": {
        "id": "wWxH9dP-yzPJ"
      },
      "outputs": [],
      "source": [
        "Amy_male = (661*804)/1847\n",
        "Amy_female = (661*1043)/1847"
      ]
    },
    {
      "cell_type": "code",
      "source": [
        "Bob_male = (278*804)/1847\n",
        "Bob_female = (278*1043)/1847"
      ],
      "metadata": {
        "id": "l3uX4pEVzSUi"
      },
      "execution_count": 7,
      "outputs": []
    },
    {
      "cell_type": "code",
      "source": [
        "Kevin_male = (908*804)/1847\n",
        "Kevin_female = (908*1043)/1847"
      ],
      "metadata": {
        "id": "On35bQqNz5kd"
      },
      "execution_count": 8,
      "outputs": []
    },
    {
      "cell_type": "code",
      "source": [
        "print(Amy_male)\n",
        "print(Amy_female)\n",
        "print(Bob_male)\n",
        "print(Bob_female)\n",
        "print(Kevin_male)\n",
        "print(Kevin_female)"
      ],
      "metadata": {
        "colab": {
          "base_uri": "https://localhost:8080/"
        },
        "id": "Qcfygli90Zdj",
        "outputId": "5b5e6649-b1bb-489c-8774-96d6d76708a6"
      },
      "execution_count": 9,
      "outputs": [
        {
          "output_type": "stream",
          "name": "stdout",
          "text": [
            "287.7336220898755\n",
            "373.2663779101245\n",
            "121.01353546291283\n",
            "156.98646453708716\n",
            "395.2528424472117\n",
            "512.7471575527883\n"
          ]
        }
      ]
    },
    {
      "cell_type": "code",
      "source": [
        "import pandas as pd\n",
        "df_ = pd.read_csv(\"/content/統計作業-獨立.csv\")\n",
        "df_"
      ],
      "metadata": {
        "colab": {
          "base_uri": "https://localhost:8080/",
          "height": 143
        },
        "id": "cxr_ookaCKnn",
        "outputId": "d9b6d3b7-81ad-4003-e73e-e1d1421793fe"
      },
      "execution_count": 10,
      "outputs": [
        {
          "output_type": "execute_result",
          "data": {
            "text/plain": [
              "   Gander  Amy  Bob  Kevin  Total\n",
              "0    Male  315  152    337    804\n",
              "1  Female  346  126    571   1043\n",
              "2   Total  661  278    908   1847"
            ],
            "text/html": [
              "\n",
              "  <div id=\"df-b59aa904-65f1-4a82-a906-e8772d0d2139\">\n",
              "    <div class=\"colab-df-container\">\n",
              "      <div>\n",
              "<style scoped>\n",
              "    .dataframe tbody tr th:only-of-type {\n",
              "        vertical-align: middle;\n",
              "    }\n",
              "\n",
              "    .dataframe tbody tr th {\n",
              "        vertical-align: top;\n",
              "    }\n",
              "\n",
              "    .dataframe thead th {\n",
              "        text-align: right;\n",
              "    }\n",
              "</style>\n",
              "<table border=\"1\" class=\"dataframe\">\n",
              "  <thead>\n",
              "    <tr style=\"text-align: right;\">\n",
              "      <th></th>\n",
              "      <th>Gander</th>\n",
              "      <th>Amy</th>\n",
              "      <th>Bob</th>\n",
              "      <th>Kevin</th>\n",
              "      <th>Total</th>\n",
              "    </tr>\n",
              "  </thead>\n",
              "  <tbody>\n",
              "    <tr>\n",
              "      <th>0</th>\n",
              "      <td>Male</td>\n",
              "      <td>315</td>\n",
              "      <td>152</td>\n",
              "      <td>337</td>\n",
              "      <td>804</td>\n",
              "    </tr>\n",
              "    <tr>\n",
              "      <th>1</th>\n",
              "      <td>Female</td>\n",
              "      <td>346</td>\n",
              "      <td>126</td>\n",
              "      <td>571</td>\n",
              "      <td>1043</td>\n",
              "    </tr>\n",
              "    <tr>\n",
              "      <th>2</th>\n",
              "      <td>Total</td>\n",
              "      <td>661</td>\n",
              "      <td>278</td>\n",
              "      <td>908</td>\n",
              "      <td>1847</td>\n",
              "    </tr>\n",
              "  </tbody>\n",
              "</table>\n",
              "</div>\n",
              "      <button class=\"colab-df-convert\" onclick=\"convertToInteractive('df-b59aa904-65f1-4a82-a906-e8772d0d2139')\"\n",
              "              title=\"Convert this dataframe to an interactive table.\"\n",
              "              style=\"display:none;\">\n",
              "        \n",
              "  <svg xmlns=\"http://www.w3.org/2000/svg\" height=\"24px\"viewBox=\"0 0 24 24\"\n",
              "       width=\"24px\">\n",
              "    <path d=\"M0 0h24v24H0V0z\" fill=\"none\"/>\n",
              "    <path d=\"M18.56 5.44l.94 2.06.94-2.06 2.06-.94-2.06-.94-.94-2.06-.94 2.06-2.06.94zm-11 1L8.5 8.5l.94-2.06 2.06-.94-2.06-.94L8.5 2.5l-.94 2.06-2.06.94zm10 10l.94 2.06.94-2.06 2.06-.94-2.06-.94-.94-2.06-.94 2.06-2.06.94z\"/><path d=\"M17.41 7.96l-1.37-1.37c-.4-.4-.92-.59-1.43-.59-.52 0-1.04.2-1.43.59L10.3 9.45l-7.72 7.72c-.78.78-.78 2.05 0 2.83L4 21.41c.39.39.9.59 1.41.59.51 0 1.02-.2 1.41-.59l7.78-7.78 2.81-2.81c.8-.78.8-2.07 0-2.86zM5.41 20L4 18.59l7.72-7.72 1.47 1.35L5.41 20z\"/>\n",
              "  </svg>\n",
              "      </button>\n",
              "      \n",
              "  <style>\n",
              "    .colab-df-container {\n",
              "      display:flex;\n",
              "      flex-wrap:wrap;\n",
              "      gap: 12px;\n",
              "    }\n",
              "\n",
              "    .colab-df-convert {\n",
              "      background-color: #E8F0FE;\n",
              "      border: none;\n",
              "      border-radius: 50%;\n",
              "      cursor: pointer;\n",
              "      display: none;\n",
              "      fill: #1967D2;\n",
              "      height: 32px;\n",
              "      padding: 0 0 0 0;\n",
              "      width: 32px;\n",
              "    }\n",
              "\n",
              "    .colab-df-convert:hover {\n",
              "      background-color: #E2EBFA;\n",
              "      box-shadow: 0px 1px 2px rgba(60, 64, 67, 0.3), 0px 1px 3px 1px rgba(60, 64, 67, 0.15);\n",
              "      fill: #174EA6;\n",
              "    }\n",
              "\n",
              "    [theme=dark] .colab-df-convert {\n",
              "      background-color: #3B4455;\n",
              "      fill: #D2E3FC;\n",
              "    }\n",
              "\n",
              "    [theme=dark] .colab-df-convert:hover {\n",
              "      background-color: #434B5C;\n",
              "      box-shadow: 0px 1px 3px 1px rgba(0, 0, 0, 0.15);\n",
              "      filter: drop-shadow(0px 1px 2px rgba(0, 0, 0, 0.3));\n",
              "      fill: #FFFFFF;\n",
              "    }\n",
              "  </style>\n",
              "\n",
              "      <script>\n",
              "        const buttonEl =\n",
              "          document.querySelector('#df-b59aa904-65f1-4a82-a906-e8772d0d2139 button.colab-df-convert');\n",
              "        buttonEl.style.display =\n",
              "          google.colab.kernel.accessAllowed ? 'block' : 'none';\n",
              "\n",
              "        async function convertToInteractive(key) {\n",
              "          const element = document.querySelector('#df-b59aa904-65f1-4a82-a906-e8772d0d2139');\n",
              "          const dataTable =\n",
              "            await google.colab.kernel.invokeFunction('convertToInteractive',\n",
              "                                                     [key], {});\n",
              "          if (!dataTable) return;\n",
              "\n",
              "          const docLinkHtml = 'Like what you see? Visit the ' +\n",
              "            '<a target=\"_blank\" href=https://colab.research.google.com/notebooks/data_table.ipynb>data table notebook</a>'\n",
              "            + ' to learn more about interactive tables.';\n",
              "          element.innerHTML = '';\n",
              "          dataTable['output_type'] = 'display_data';\n",
              "          await google.colab.output.renderOutput(dataTable, element);\n",
              "          const docLink = document.createElement('div');\n",
              "          docLink.innerHTML = docLinkHtml;\n",
              "          element.appendChild(docLink);\n",
              "        }\n",
              "      </script>\n",
              "    </div>\n",
              "  </div>\n",
              "  "
            ]
          },
          "metadata": {},
          "execution_count": 10
        }
      ]
    },
    {
      "cell_type": "code",
      "source": [
        "amy = [\"315(287.7336)\",\"346(373.2663)\",\"(661)\"]\n",
        "bob = [\"152(121.0135)\",\"126(156.9864)\",\"(278)\"]\n",
        "kevin = [\"337(395.2528)\",\"571(512.7471)\",\"(908)\"]\n",
        "total = [\"(804)\",\"(1043)\",\"(1847)\"]\n",
        "\n",
        "dic = {\"Amy\":amy,\"Bob\":bob,\"Kevin\":kevin,\"(Total)\":total}\n",
        "gander = pd.Index(data=[\"Male\",\"Female\",\"(Total)\"],name=\"Gander\")\n",
        "df = pd.DataFrame(dic,index= gander)\n",
        "df"
      ],
      "metadata": {
        "colab": {
          "base_uri": "https://localhost:8080/",
          "height": 175
        },
        "id": "9MsgbDuQFgP8",
        "outputId": "247502d3-3ff1-4a10-d7f1-397510276a6d"
      },
      "execution_count": 11,
      "outputs": [
        {
          "output_type": "execute_result",
          "data": {
            "text/plain": [
              "                   Amy            Bob          Kevin (Total)\n",
              "Gander                                                      \n",
              "Male     315(287.7336)  152(121.0135)  337(395.2528)   (804)\n",
              "Female   346(373.2663)  126(156.9864)  571(512.7471)  (1043)\n",
              "(Total)          (661)          (278)          (908)  (1847)"
            ],
            "text/html": [
              "\n",
              "  <div id=\"df-ad3096d1-eb6f-4e7b-905a-d7ca588b1838\">\n",
              "    <div class=\"colab-df-container\">\n",
              "      <div>\n",
              "<style scoped>\n",
              "    .dataframe tbody tr th:only-of-type {\n",
              "        vertical-align: middle;\n",
              "    }\n",
              "\n",
              "    .dataframe tbody tr th {\n",
              "        vertical-align: top;\n",
              "    }\n",
              "\n",
              "    .dataframe thead th {\n",
              "        text-align: right;\n",
              "    }\n",
              "</style>\n",
              "<table border=\"1\" class=\"dataframe\">\n",
              "  <thead>\n",
              "    <tr style=\"text-align: right;\">\n",
              "      <th></th>\n",
              "      <th>Amy</th>\n",
              "      <th>Bob</th>\n",
              "      <th>Kevin</th>\n",
              "      <th>(Total)</th>\n",
              "    </tr>\n",
              "    <tr>\n",
              "      <th>Gander</th>\n",
              "      <th></th>\n",
              "      <th></th>\n",
              "      <th></th>\n",
              "      <th></th>\n",
              "    </tr>\n",
              "  </thead>\n",
              "  <tbody>\n",
              "    <tr>\n",
              "      <th>Male</th>\n",
              "      <td>315(287.7336)</td>\n",
              "      <td>152(121.0135)</td>\n",
              "      <td>337(395.2528)</td>\n",
              "      <td>(804)</td>\n",
              "    </tr>\n",
              "    <tr>\n",
              "      <th>Female</th>\n",
              "      <td>346(373.2663)</td>\n",
              "      <td>126(156.9864)</td>\n",
              "      <td>571(512.7471)</td>\n",
              "      <td>(1043)</td>\n",
              "    </tr>\n",
              "    <tr>\n",
              "      <th>(Total)</th>\n",
              "      <td>(661)</td>\n",
              "      <td>(278)</td>\n",
              "      <td>(908)</td>\n",
              "      <td>(1847)</td>\n",
              "    </tr>\n",
              "  </tbody>\n",
              "</table>\n",
              "</div>\n",
              "      <button class=\"colab-df-convert\" onclick=\"convertToInteractive('df-ad3096d1-eb6f-4e7b-905a-d7ca588b1838')\"\n",
              "              title=\"Convert this dataframe to an interactive table.\"\n",
              "              style=\"display:none;\">\n",
              "        \n",
              "  <svg xmlns=\"http://www.w3.org/2000/svg\" height=\"24px\"viewBox=\"0 0 24 24\"\n",
              "       width=\"24px\">\n",
              "    <path d=\"M0 0h24v24H0V0z\" fill=\"none\"/>\n",
              "    <path d=\"M18.56 5.44l.94 2.06.94-2.06 2.06-.94-2.06-.94-.94-2.06-.94 2.06-2.06.94zm-11 1L8.5 8.5l.94-2.06 2.06-.94-2.06-.94L8.5 2.5l-.94 2.06-2.06.94zm10 10l.94 2.06.94-2.06 2.06-.94-2.06-.94-.94-2.06-.94 2.06-2.06.94z\"/><path d=\"M17.41 7.96l-1.37-1.37c-.4-.4-.92-.59-1.43-.59-.52 0-1.04.2-1.43.59L10.3 9.45l-7.72 7.72c-.78.78-.78 2.05 0 2.83L4 21.41c.39.39.9.59 1.41.59.51 0 1.02-.2 1.41-.59l7.78-7.78 2.81-2.81c.8-.78.8-2.07 0-2.86zM5.41 20L4 18.59l7.72-7.72 1.47 1.35L5.41 20z\"/>\n",
              "  </svg>\n",
              "      </button>\n",
              "      \n",
              "  <style>\n",
              "    .colab-df-container {\n",
              "      display:flex;\n",
              "      flex-wrap:wrap;\n",
              "      gap: 12px;\n",
              "    }\n",
              "\n",
              "    .colab-df-convert {\n",
              "      background-color: #E8F0FE;\n",
              "      border: none;\n",
              "      border-radius: 50%;\n",
              "      cursor: pointer;\n",
              "      display: none;\n",
              "      fill: #1967D2;\n",
              "      height: 32px;\n",
              "      padding: 0 0 0 0;\n",
              "      width: 32px;\n",
              "    }\n",
              "\n",
              "    .colab-df-convert:hover {\n",
              "      background-color: #E2EBFA;\n",
              "      box-shadow: 0px 1px 2px rgba(60, 64, 67, 0.3), 0px 1px 3px 1px rgba(60, 64, 67, 0.15);\n",
              "      fill: #174EA6;\n",
              "    }\n",
              "\n",
              "    [theme=dark] .colab-df-convert {\n",
              "      background-color: #3B4455;\n",
              "      fill: #D2E3FC;\n",
              "    }\n",
              "\n",
              "    [theme=dark] .colab-df-convert:hover {\n",
              "      background-color: #434B5C;\n",
              "      box-shadow: 0px 1px 3px 1px rgba(0, 0, 0, 0.15);\n",
              "      filter: drop-shadow(0px 1px 2px rgba(0, 0, 0, 0.3));\n",
              "      fill: #FFFFFF;\n",
              "    }\n",
              "  </style>\n",
              "\n",
              "      <script>\n",
              "        const buttonEl =\n",
              "          document.querySelector('#df-ad3096d1-eb6f-4e7b-905a-d7ca588b1838 button.colab-df-convert');\n",
              "        buttonEl.style.display =\n",
              "          google.colab.kernel.accessAllowed ? 'block' : 'none';\n",
              "\n",
              "        async function convertToInteractive(key) {\n",
              "          const element = document.querySelector('#df-ad3096d1-eb6f-4e7b-905a-d7ca588b1838');\n",
              "          const dataTable =\n",
              "            await google.colab.kernel.invokeFunction('convertToInteractive',\n",
              "                                                     [key], {});\n",
              "          if (!dataTable) return;\n",
              "\n",
              "          const docLinkHtml = 'Like what you see? Visit the ' +\n",
              "            '<a target=\"_blank\" href=https://colab.research.google.com/notebooks/data_table.ipynb>data table notebook</a>'\n",
              "            + ' to learn more about interactive tables.';\n",
              "          element.innerHTML = '';\n",
              "          dataTable['output_type'] = 'display_data';\n",
              "          await google.colab.output.renderOutput(dataTable, element);\n",
              "          const docLink = document.createElement('div');\n",
              "          docLink.innerHTML = docLinkHtml;\n",
              "          element.appendChild(docLink);\n",
              "        }\n",
              "      </script>\n",
              "    </div>\n",
              "  </div>\n",
              "  "
            ]
          },
          "metadata": {},
          "execution_count": 11
        }
      ]
    },
    {
      "cell_type": "code",
      "source": [
        "(((315-(Amy_male))**2)/Amy_male) + (((346-(Amy_female))**2)/Amy_female) + (((152-(Bob_male))**2)/Bob_male) + (((126-(Bob_female))**2)/Bob_female) + (((337-(Kevin_male))**2)/Kevin_male) + (((571-(Kevin_female))**2)/Kevin_female)"
      ],
      "metadata": {
        "colab": {
          "base_uri": "https://localhost:8080/"
        },
        "id": "9KhUEO7zNwaU",
        "outputId": "b96ca3a1-cab2-4b7d-d3dd-4a771c817c47"
      },
      "execution_count": 12,
      "outputs": [
        {
          "output_type": "execute_result",
          "data": {
            "text/plain": [
              "33.829555873353954"
            ]
          },
          "metadata": {},
          "execution_count": 12
        }
      ]
    },
    {
      "cell_type": "code",
      "source": [
        "(((315-287.7336)**2)/287.7336)+(((346-373.2663)**2)/373.2663)+(((152-121.0135)**2)/121.0135)+(((126-156.9864)**2)/156.9864)+(((337-395.2528)**2)/395.2528)+(((571-512.7471)**2)/512.7471)"
      ],
      "metadata": {
        "colab": {
          "base_uri": "https://localhost:8080/"
        },
        "id": "P3-IKwhmYo3-",
        "outputId": "bf923c9a-4753-4eb0-914d-fd9606df69d5"
      },
      "execution_count": 13,
      "outputs": [
        {
          "output_type": "execute_result",
          "data": {
            "text/plain": [
              "33.82954904537508"
            ]
          },
          "metadata": {},
          "execution_count": 13
        }
      ]
    },
    {
      "cell_type": "code",
      "source": [
        "r = 2\n",
        "c = 3\n",
        "DOF = (r-1)*(c-1)\n",
        "print(\"自由度:\",DOF)"
      ],
      "metadata": {
        "colab": {
          "base_uri": "https://localhost:8080/"
        },
        "id": "mdw7V70Vh9m_",
        "outputId": "c3f6e29a-34e5-47b8-be6a-a25bf63aafd4"
      },
      "execution_count": 14,
      "outputs": [
        {
          "output_type": "stream",
          "name": "stdout",
          "text": [
            "自由度: 2\n"
          ]
        }
      ]
    },
    {
      "cell_type": "code",
      "source": [
        "from scipy.stats import chi2_contingency  \n",
        "\n",
        "observed = [\n",
        "    [315,152,337],\n",
        "    [346,126,571]\n",
        "]\n",
        "\n",
        "chi2,P,dof,expected = chi2_contingency(observed)\n",
        "\n",
        "print('chi-square:',chi2)\n",
        "print('p-value:',P)\n",
        "print('df:',dof)\n",
        "print('expected vale table:',expected)\n",
        "if P >= 0.05:\n",
        "  print(\"H0 is accepted\")\n",
        "else:\n",
        "  print(\"H0 is rejected\")"
      ],
      "metadata": {
        "colab": {
          "base_uri": "https://localhost:8080/"
        },
        "id": "iCKVkbTsUN12",
        "outputId": "34b3df7d-4178-4e4d-def9-b0fefea35f5d"
      },
      "execution_count": 15,
      "outputs": [
        {
          "output_type": "stream",
          "name": "stdout",
          "text": [
            "chi-square: 33.829555873353954\n",
            "p-value: 4.5082218490878234e-08\n",
            "df: 2\n",
            "expected vale table: [[287.73362209 121.01353546 395.25284245]\n",
            " [373.26637791 156.98646454 512.74715755]]\n",
            "H0 is rejected\n"
          ]
        }
      ]
    },
    {
      "cell_type": "code",
      "source": [
        "from scipy.stats import chi2_contingency  \n",
        "\n",
        "observed = [\n",
        "    [45,55,70],\n",
        "    [905,890,870],\n",
        "]\n",
        "\n",
        "chi2,P,dof,expected = chi2_contingency(observed)\n",
        "\n",
        "print('chi-square:',chi2)\n",
        "print('p-value:',P)\n",
        "print('df:',dof)\n",
        "print('expected vale table:',expected)\n",
        "if P >= 0.05:\n",
        "  print(\"H0 is accepted\")\n",
        "else:\n",
        "  print(\"H0 is rejected\")"
      ],
      "metadata": {
        "colab": {
          "base_uri": "https://localhost:8080/"
        },
        "id": "3ncDBh79EYhT",
        "outputId": "18287773-c324-4a7d-aead-08974c37e3f1"
      },
      "execution_count": 16,
      "outputs": [
        {
          "output_type": "stream",
          "name": "stdout",
          "text": [
            "chi-square: 6.233920047684764\n",
            "p-value: 0.044291609404034316\n",
            "df: 2\n",
            "expected vale table: [[ 56.9664903   56.66666667  56.36684303]\n",
            " [893.0335097  888.33333333 883.63315697]]\n",
            "H0 is rejected\n"
          ]
        }
      ]
    },
    {
      "cell_type": "markdown",
      "source": [
        "## v1 = [0.1, 0.15, 0.2, 0.25, 0.3, 0.35, 0.4, 0.45, 0.5, 0.55]\n",
        "## v2 = [1, 0.95, 0.95, 0.9, 0.85, 0.7, 0.65, 0.6, 0.55, 0.42]"
      ],
      "metadata": {
        "id": "jC_MwD6SLSnO"
      }
    },
    {
      "cell_type": "code",
      "source": [
        "import statistics\n",
        "import numpy as np\n",
        "import pandas as pd\n",
        "import scipy.stats\n",
        "\n",
        "v1 = [0.1, 0.15, 0.2, 0.25, 0.3, 0.35, 0.4, 0.45, 0.5, 0.55]\n",
        "v2 = [1, 0.95, 0.95, 0.9, 0.85, 0.7, 0.65, 0.6, 0.55, 0.42]\n",
        "\n",
        "# 使用 statistics 資料庫獲取平均值\n",
        "mean_v1 = statistics.mean(v1)\n",
        "mean_v2 = statistics.mean(v2)\n",
        "\n",
        "# 查詢 Python 列表的平均值\n",
        "mean_v1_2 = sum(v1)/len(v1)\n",
        "mean_v2_2 = sum(v2)/len(v2)\n",
        "\n",
        "# 使用 numpy.mean() 查詢 Python 列表的平均值\n",
        "mean_v1_3 = np.mean(v1)\n",
        "mean_v2_3 = np.mean(v2)\n",
        "\n",
        "\n",
        "# Python\n",
        "sub_v1 = [i - mean_v1 for i in v1]\n",
        "sub_v2 = [i - mean_v2 for i in v2]\n",
        "\n",
        "numerator = sum([sub_v1[i]*sub_v2[i] for i in range(len(sub_v1))])\n",
        "n = len(v1) - 1\n",
        "cov = numerator / n\n",
        "\n",
        "      # Standard Deviation(標準差) of x and y\n",
        "std_deviation_x = sum([sub_v1[i]**2.0 for i in range(len(sub_v1))])\n",
        "std_deviation_y = sum([sub_v2[i]**2.0 for i in range(len(sub_v2))])\n",
        "denominator = (std_deviation_x**0.5) * (std_deviation_y**0.5) \n",
        "cor = numerator /denominator\n",
        "\n",
        "# Numpy\n",
        "x = np.array(v1)\n",
        "y = np.array(v2)\n",
        "np_cov = np.cov(x, y)[0][1]\n",
        "np_cor = np.corrcoef(x,y)\n",
        "\n",
        "# Pandas\n",
        "X = pd.Series(v1)\n",
        "Y = pd.Series(v2) \n",
        "pd_cov = X.cov(Y)\n",
        "pd_cor = X.corr(Y)\n",
        "\n",
        "_=\"-\"*70\n",
        "\n",
        "\n",
        "print(\"python - Covariance(共變異數): \",cov)\n",
        "print(\"python - Correlation(相關係數): \",cor,\"\\n\"+_)\n",
        "print(\"numpy - Covariance(共變異數): \",np_cov)\n",
        "print(\"numpy - Correlation(相關係數): \",np_cor[0,1],\"\\n\"+_)\n",
        "print(\"Pandas - Covariance(共變異數): \",pd_cov)\n",
        "print(\"Pandas - Correlation(相關係數): \",pd_cor)"
      ],
      "metadata": {
        "colab": {
          "base_uri": "https://localhost:8080/"
        },
        "id": "YYM-jdpjM8uY",
        "outputId": "aa8b20d8-9da0-4d4c-f456-f7ae22d41323"
      },
      "execution_count": 117,
      "outputs": [
        {
          "output_type": "stream",
          "name": "stdout",
          "text": [
            "python - Covariance(共變異數):  -0.029638888888888895\n",
            "python - Correlation(相關係數):  -0.9811092951214498 \n",
            "----------------------------------------------------------------------\n",
            "numpy - Covariance(共變異數):  -0.02963888888888889\n",
            "numpy - Correlation(相關係數):  -0.98110929512145 \n",
            "----------------------------------------------------------------------\n",
            "Pandas - Covariance(共變異數):  -0.02963888888888889\n",
            "Pandas - Correlation(相關係數):  -0.98110929512145\n"
          ]
        }
      ]
    }
  ]
}